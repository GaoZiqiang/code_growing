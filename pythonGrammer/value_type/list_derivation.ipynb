{
 "cells": [
  {
   "cell_type": "code",
   "execution_count": 2,
   "metadata": {},
   "outputs": [
    {
     "name": "stdout",
     "output_type": "stream",
     "text": [
      "[1, 4, 9, 16, 25, 36]\n"
     ]
    },
    {
     "data": {
      "text/plain": [
       "[1, 4, 9]"
      ]
     },
     "execution_count": 2,
     "metadata": {},
     "output_type": "execute_result"
    }
   ],
   "source": [
    "# 列表推导，新生成的列表中的每个元素都是原序列中每一个的值应用给定操作后的结果\n",
    "L = [x**2 for x in range(1,7)]\n",
    "print(L)\n",
    "\n",
    "# 使用if语句对原列表中的元素进行筛选，然后再进行相关操作\n",
    "mixed = [1,2,'a',3,4.0]\n",
    "# 将mixed列表中的int型数值筛选出并做求平方操作\n",
    "[x**2 for x in mixed if type(x) == int]"
   ]
  }
 ],
 "metadata": {
  "kernelspec": {
   "display_name": "Python 3",
   "language": "python",
   "name": "python3"
  },
  "language_info": {
   "codemirror_mode": {
    "name": "ipython",
    "version": 3
   },
   "file_extension": ".py",
   "mimetype": "text/x-python",
   "name": "python",
   "nbconvert_exporter": "python",
   "pygments_lexer": "ipython3",
   "version": "3.7.8"
  }
 },
 "nbformat": 4,
 "nbformat_minor": 4
}
