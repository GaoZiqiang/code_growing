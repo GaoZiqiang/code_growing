{
 "cells": [
  {
   "cell_type": "code",
   "execution_count": 6,
   "metadata": {},
   "outputs": [],
   "source": [
    "def intersect(t1,t2):\n",
    "    '''\n",
    "    求t1和t2的共同元素\n",
    "    '''\n",
    "    result = ()\n",
    "    for e in t1:\n",
    "        if e in t2:\n",
    "            result += (e,)\n",
    "    return result"
   ]
  },
  {
   "cell_type": "code",
   "execution_count": 7,
   "metadata": {},
   "outputs": [
    {
     "data": {
      "text/plain": [
       "('3', '6')"
      ]
     },
     "execution_count": 7,
     "metadata": {},
     "output_type": "execute_result"
    }
   ],
   "source": [
    "t1 = ('3','6')\n",
    "t2 = ('3','6')\n",
    "\n",
    "intersect(t1,t2)"
   ]
  },
  {
   "cell_type": "code",
   "execution_count": 10,
   "metadata": {},
   "outputs": [
    {
     "name": "stdout",
     "output_type": "stream",
     "text": [
      "2 100\n"
     ]
    },
    {
     "data": {
      "text/plain": [
       "(2, 100)"
      ]
     },
     "execution_count": 10,
     "metadata": {},
     "output_type": "execute_result"
    }
   ],
   "source": [
    "def findExtremeDivisors(n1,n2):\n",
    "    '''\n",
    "    返回n1和n2的最小（大于１）和最大公约数\n",
    "    '''\n",
    "    minVal,maxVal = None,None\n",
    "    for i in range(2,min(n1,n2) + 1):\n",
    "        if n1%i == 0 and n2%2 == 0:\n",
    "            if minVal == None:\n",
    "                minVal = i\n",
    "            maxVal = i# maxVal每次都要更新，最后一次更新后的maxVal即为最大公约数\n",
    "    return (minVal,maxVal)\n",
    "minDivisor,maxDivisor = findExtremeDivisors(100,200)\n",
    "print(minDivisor,maxDivisor)\n",
    "findExtremeDivisors(100,200)"
   ]
  }
 ],
 "metadata": {
  "kernelspec": {
   "display_name": "Python 3",
   "language": "python",
   "name": "python3"
  },
  "language_info": {
   "codemirror_mode": {
    "name": "ipython",
    "version": 3
   },
   "file_extension": ".py",
   "mimetype": "text/x-python",
   "name": "python",
   "nbconvert_exporter": "python",
   "pygments_lexer": "ipython3",
   "version": "3.7.8"
  }
 },
 "nbformat": 4,
 "nbformat_minor": 4
}
