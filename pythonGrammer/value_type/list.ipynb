{
 "cells": [
  {
   "cell_type": "code",
   "execution_count": 2,
   "metadata": {},
   "outputs": [
    {
     "name": "stdout",
     "output_type": "stream",
     "text": [
      "I did it all\n",
      "4\n",
      "love\n"
     ]
    }
   ],
   "source": [
    "L = ['I did it all',4,'love']\n",
    "for i in range(len(L)):\n",
    "    print(L[i])"
   ]
  },
  {
   "cell_type": "code",
   "execution_count": 40,
   "metadata": {},
   "outputs": [
    {
     "name": "stdout",
     "output_type": "stream",
     "text": [
      "[['MIT', 'Caltech'], ['Harvard', 'Yale', 'Brown']]\n",
      "139712206650016\n",
      "139712206679328\n",
      "id(Univs[0]) 139712206648416\n",
      "id(Univs1[0]) 139712206756592\n"
     ]
    }
   ],
   "source": [
    "Techs = ['MIT', 'Caltech']\n",
    "Ivys = ['Harvard', 'Yale', 'Brown']\n",
    "Univs = [Techs, Ivys]\n",
    "Univs1 = [['MIT', 'Caltech'], ['Harvard', 'Yale', 'Brown']] \n",
    "print(Univs)\n",
    "Univs\n",
    "Univs1\n",
    "print(id(Univs))\n",
    "print(id(Univs1))\n",
    "print('id(Univs[0])',id(Univs[0]))\n",
    "print('id(Univs1[0])',id(Univs1[0]))"
   ]
  },
  {
   "cell_type": "code",
   "execution_count": 42,
   "metadata": {},
   "outputs": [
    {
     "name": "stdout",
     "output_type": "stream",
     "text": [
      "Univs contains ['MIT', 'Caltech', 'Harvard', 'Yale', 'Brown']\n",
      "which contains\n",
      " MIT\n",
      " Caltech\n",
      " Harvard\n",
      " Yale\n",
      " Brown\n",
      "Univs contains ['Harvard', 'Yale', 'Brown']\n",
      "which contains\n",
      " Harvard\n",
      " Yale\n",
      " Brown\n"
     ]
    }
   ],
   "source": [
    "# Techs.append(Ivys)\n",
    "Techs.extend(Ivys)\n",
    "for e in Univs:\n",
    "    print('Univs contains',e)\n",
    "    print('which contains')\n",
    "    for u in e:\n",
    "        print('',u)"
   ]
  }
 ],
 "metadata": {
  "kernelspec": {
   "display_name": "Python 3",
   "language": "python",
   "name": "python3"
  },
  "language_info": {
   "codemirror_mode": {
    "name": "ipython",
    "version": 3
   },
   "file_extension": ".py",
   "mimetype": "text/x-python",
   "name": "python",
   "nbconvert_exporter": "python",
   "pygments_lexer": "ipython3",
   "version": "3.7.8"
  }
 },
 "nbformat": 4,
 "nbformat_minor": 4
}
