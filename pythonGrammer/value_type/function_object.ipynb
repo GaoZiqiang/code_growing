{
 "cells": [
  {
   "cell_type": "code",
   "execution_count": 4,
   "metadata": {},
   "outputs": [
    {
     "name": "stdout",
     "output_type": "stream",
     "text": [
      "L =  [1, -2, 3.33]\n",
      "apply abs to each element of L: [1, 2, 3.33]\n"
     ]
    }
   ],
   "source": [
    "def apply_to_each(L,f):\n",
    "    '''\n",
    "    假设L是列表，f是函数\n",
    "    将f(e)应用到L的每个元素，并使用返回值替代原来的元素\n",
    "    '''\n",
    "    for i in range(len(L)):\n",
    "        L[i] = f(L[i])\n",
    "    return L\n",
    "\n",
    "L = [1,-2,3.33]\n",
    "print('L = ',L)\n",
    "print('apply abs to each element of L:',apply_to_each(L,abs))"
   ]
  },
  {
   "cell_type": "code",
   "execution_count": 8,
   "metadata": {},
   "outputs": [
    {
     "name": "stdout",
     "output_type": "stream",
     "text": [
      "2\n",
      "6\n",
      "4\n"
     ]
    }
   ],
   "source": [
    "# map函数\n",
    "# 单参数函数\n",
    "for i in map(abs,[2,-6,4]):\n",
    "    print(i)"
   ]
  },
  {
   "cell_type": "code",
   "execution_count": 12,
   "metadata": {},
   "outputs": [
    {
     "name": "stdout",
     "output_type": "stream",
     "text": [
      "-1\n",
      "4\n",
      "9\n"
     ]
    }
   ],
   "source": [
    "# 多参数函数\n",
    "L1 = [1, 28, 36]\n",
    "L2 = [2, 57, 9]\n",
    "L3 = [-1,4,64]\n",
    "for i in map(min,L1,L2,L3):\n",
    "    print(i)"
   ]
  },
  {
   "cell_type": "code",
   "execution_count": 13,
   "metadata": {},
   "outputs": [
    {
     "name": "stdout",
     "output_type": "stream",
     "text": [
      "1\n",
      "4\n",
      "3\n",
      "1\n"
     ]
    }
   ],
   "source": [
    "# 匿名函数作函数参数\n",
    "for i in map(lambda x,y:x**y,[1,2,3,4],[3,2,1,0]):\n",
    "    print(i)"
   ]
  }
 ],
 "metadata": {
  "kernelspec": {
   "display_name": "Python 3",
   "language": "python",
   "name": "python3"
  },
  "language_info": {
   "codemirror_mode": {
    "name": "ipython",
    "version": 3
   },
   "file_extension": ".py",
   "mimetype": "text/x-python",
   "name": "python",
   "nbconvert_exporter": "python",
   "pygments_lexer": "ipython3",
   "version": "3.7.8"
  }
 },
 "nbformat": 4,
 "nbformat_minor": 4
}
