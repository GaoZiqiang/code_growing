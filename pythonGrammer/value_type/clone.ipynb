{
 "cells": [
  {
   "cell_type": "code",
   "execution_count": 36,
   "metadata": {},
   "outputs": [],
   "source": [
    "import copy\n",
    "\n",
    "def removeDups(L1,L2):\n",
    "    '''\n",
    "    删除L1列表中出现在L2列表中的元素\n",
    "    '''\n",
    "    newL1 = copy.deepcopy(L1)# 使用newL1暂存L1，注意不能使用简单的参数赋值操作newL1=L1，赋值操作并不能实现真正的复制/克隆，而应该使用deepcopy对L1进行克隆操作\n",
    "    for e in newL1:\n",
    "        print(e)\n",
    "        if e in L2:\n",
    "            L1.remove(e)# 注意：在执行完这条remove后，L1列表发生了改变，同样的，列表内的元素顺序也发生了改变。所以我们采用deepcopy进行克隆\n",
    "    return L1"
   ]
  },
  {
   "cell_type": "code",
   "execution_count": 37,
   "metadata": {},
   "outputs": [
    {
     "name": "stdout",
     "output_type": "stream",
     "text": [
      "1\n",
      "2\n",
      "3\n",
      "4\n"
     ]
    },
    {
     "data": {
      "text/plain": [
       "[3, 4]"
      ]
     },
     "execution_count": 37,
     "metadata": {},
     "output_type": "execute_result"
    }
   ],
   "source": [
    "L1 = [1,2,3,4]\n",
    "L2 = [1,2,5,6]\n",
    "removeDups(L1,L2)"
   ]
  }
 ],
 "metadata": {
  "kernelspec": {
   "display_name": "Python 3",
   "language": "python",
   "name": "python3"
  },
  "language_info": {
   "codemirror_mode": {
    "name": "ipython",
    "version": 3
   },
   "file_extension": ".py",
   "mimetype": "text/x-python",
   "name": "python",
   "nbconvert_exporter": "python",
   "pygments_lexer": "ipython3",
   "version": "3.7.8"
  }
 },
 "nbformat": 4,
 "nbformat_minor": 4
}
