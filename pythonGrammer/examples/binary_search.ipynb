{
 "cells": [
  {
   "cell_type": "code",
   "execution_count": 4,
   "metadata": {},
   "outputs": [
    {
     "name": "stdout",
     "output_type": "stream",
     "text": [
      "0\n",
      "1\n",
      "2\n",
      "3\n",
      "4\n",
      "5\n",
      "6\n"
     ]
    }
   ],
   "source": [
    "# for 循环\n",
    "# range函数的参数在循环的第一次迭代之前就已经被解释器求值，随后的迭代中不会再次求值\n",
    "x = 7 \n",
    "for i in range(0, x): \n",
    " print(i) \n",
    " x = 6 "
   ]
  },
  {
   "cell_type": "code",
   "execution_count": 7,
   "metadata": {},
   "outputs": [
    {
     "name": "stdout",
     "output_type": "stream",
     "text": [
      "0\n",
      "1\n",
      "2\n",
      "3\n",
      "0\n",
      "1\n",
      "0\n",
      "1\n",
      "0\n",
      "1\n"
     ]
    }
   ],
   "source": [
    "# 如何理解解释器对range(x)中x的处理，重要\n",
    "x = 4 \n",
    "for j in range(x): \n",
    " for i in range(x): \n",
    "     print(i) \n",
    "     x = 2 "
   ]
  },
  {
   "cell_type": "code",
   "execution_count": 16,
   "metadata": {},
   "outputs": [
    {
     "name": "stdout",
     "output_type": "stream",
     "text": [
      "1.23\n",
      "2.4\n",
      "3.123\n",
      "total is: 6.753\n"
     ]
    }
   ],
   "source": [
    "s = [1.23, 2.4, 3.123]\n",
    "total = 0 \n",
    "for i in range(len(s)): \n",
    "    print(s[i])\n",
    "    total = total + s[i] \n",
    "print('total is:',total) "
   ]
  },
  {
   "cell_type": "code",
   "execution_count": null,
   "metadata": {
    "collapsed": true
   },
   "outputs": [],
   "source": [
    "# 近似解和二分查找法（本质就是微调法）求近似平方根\n",
    "# 一开始的算法while()语句的第二个判定条件是ans<=x，这样存在一个缺点：只能求解x>1的数的平方根，对于0-1之间的x的平方根无法求。因为当x在0和1之间时，x的平方根不在这个区间内\n",
    "# 因此，对应的改正方法是将ans<=x改为ans*2<=x\n",
    "\n",
    "# 下面还会存在的问题：\n",
    "# 1 步长step太大，程序跳过了所有合适的答案。例如，对于x= 123456使用原来的程序就找不到平方根解\n",
    "# 对应的解决方法便是调整步长step，将其减小为step=epsilon**3\n",
    "x = int(input('输入一个整数:'))\n",
    "epsilon = 0.01# 误差设置在0.01\n",
    "step = epsilon**3\n",
    "numGuesses = 0 \n",
    "ans = 0.0 \n",
    "while abs(ans**2 - x) >= epsilon and ans**2 <= x: \n",
    " ans += step \n",
    " numGuesses += 1 \n",
    "print('numGuesses =', numGuesses) \n",
    "if abs(ans**2 - x) >= epsilon: \n",
    " print('Failed on square root of', x) \n",
    "else: \n",
    " print(ans, 'is close to square root of', x) "
   ]
  },
  {
   "cell_type": "code",
   "execution_count": null,
   "metadata": {
    "collapsed": true
   },
   "outputs": [],
   "source": [
    "# 用二分查找法求平方根\n",
    "x = int(input('输入整数:'))\n",
    "if x < 0:\n",
    "    print('该整数{0}没有平方根'.format(x))\n",
    "else:\n",
    "    epsilon = 0.01\n",
    "    numGuesses = 0\n",
    "    low = 0.0\n",
    "    high = max(1.0,x)\n",
    "    ans = (high + low)/2.0\n",
    "    while abs(ans**2 - x) >= epsilon and low != high:\n",
    "        print('low=',low,'high=',high,'ans=',ans)\n",
    "        numGuesses += 1\n",
    "        if ans**2 < x:\n",
    "            low = ans\n",
    "        else:\n",
    "            high = ans\n",
    "        ans = (low + high)/2\n",
    "\n",
    "    print('numGuesses=',numGuesses)\n",
    "    print(ans,'is close to square root of',x)    \n",
    "\n"
   ]
  },
  {
   "cell_type": "code",
   "execution_count": null,
   "metadata": {
    "collapsed": true
   },
   "outputs": [],
   "source": [
    "# 牛顿-拉夫森法求平方根\n",
    "k = int(input('输入正整数:'))\n",
    "epsilon = 0.01 \n",
    "# k = 24.0 \n",
    "guess = k/2.0 \n",
    "numGuesses = 0\n",
    "while abs(guess*guess - k) >= epsilon: \n",
    "    guess = guess - (((guess**2) - k)/(2*guess))\n",
    "    numGuesses += 1\n",
    "print('Square root of', k, 'is about', guess)\n",
    "print('numGuesses is',numGuesses)"
   ]
  },
  {
   "cell_type": "code",
   "execution_count": null,
   "metadata": {
    "collapsed": true
   },
   "outputs": [],
   "source": []
  },
  {
   "cell_type": "code",
   "execution_count": null,
   "metadata": {
    "collapsed": true
   },
   "outputs": [],
   "source": []
  },
  {
   "cell_type": "code",
   "execution_count": null,
   "metadata": {
    "collapsed": true
   },
   "outputs": [],
   "source": []
  }
 ],
 "metadata": {
  "kernelspec": {
   "display_name": "Python 3",
   "language": "python",
   "name": "python3"
  },
  "language_info": {
   "codemirror_mode": {
    "name": "ipython",
    "version": 3
   },
   "file_extension": ".py",
   "mimetype": "text/x-python",
   "name": "python",
   "nbconvert_exporter": "python",
   "pygments_lexer": "ipython3",
   "version": "3.6.2"
  }
 },
 "nbformat": 4,
 "nbformat_minor": 2
}
