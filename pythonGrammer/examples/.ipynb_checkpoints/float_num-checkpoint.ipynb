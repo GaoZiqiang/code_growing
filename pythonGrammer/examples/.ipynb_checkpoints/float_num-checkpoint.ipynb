{
 "cells": [
  {
   "cell_type": "code",
   "execution_count": 1,
   "metadata": {},
   "outputs": [
    {
     "ename": "NameError",
     "evalue": "name 'distmat' is not defined",
     "output_type": "error",
     "traceback": [
      "\u001b[0;31m---------------------------------------------------------------------------\u001b[0m",
      "\u001b[0;31mNameError\u001b[0m                                 Traceback (most recent call last)",
      "\u001b[0;32m<ipython-input-1-718620f6758f>\u001b[0m in \u001b[0;36m<module>\u001b[0;34m\u001b[0m\n\u001b[0;32m----> 1\u001b[0;31m \u001b[0mmm\u001b[0m\u001b[0;34m,\u001b[0m\u001b[0mnn\u001b[0m \u001b[0;34m=\u001b[0m \u001b[0mdistmat\u001b[0m\u001b[0;34m.\u001b[0m\u001b[0mshape\u001b[0m\u001b[0;34m[\u001b[0m\u001b[0;36m0\u001b[0m\u001b[0;34m]\u001b[0m\u001b[0;34m,\u001b[0m\u001b[0mdistmat\u001b[0m\u001b[0;34m.\u001b[0m\u001b[0mshape\u001b[0m\u001b[0;34m[\u001b[0m\u001b[0;36m1\u001b[0m\u001b[0;34m]\u001b[0m\u001b[0;34m\u001b[0m\u001b[0m\n\u001b[0m\u001b[1;32m      2\u001b[0m \u001b[0mmin\u001b[0m \u001b[0;34m=\u001b[0m \u001b[0;34m[\u001b[0m\u001b[0;36m1\u001b[0m\u001b[0;34m,\u001b[0m\u001b[0;36m1\u001b[0m\u001b[0;34m,\u001b[0m\u001b[0;36m1\u001b[0m\u001b[0;34m,\u001b[0m\u001b[0;36m1\u001b[0m\u001b[0;34m,\u001b[0m\u001b[0;36m1\u001b[0m\u001b[0;34m,\u001b[0m\u001b[0;36m1\u001b[0m\u001b[0;34m,\u001b[0m\u001b[0;36m1\u001b[0m\u001b[0;34m,\u001b[0m\u001b[0;36m1\u001b[0m\u001b[0;34m]\u001b[0m\u001b[0;34m\u001b[0m\u001b[0m\n\u001b[1;32m      3\u001b[0m \u001b[0mnum\u001b[0m \u001b[0;34m=\u001b[0m \u001b[0;36m0\u001b[0m\u001b[0;34m\u001b[0m\u001b[0m\n\u001b[1;32m      4\u001b[0m \u001b[0;32mfor\u001b[0m \u001b[0mi\u001b[0m \u001b[0;32min\u001b[0m \u001b[0mrange\u001b[0m\u001b[0;34m(\u001b[0m\u001b[0mmm\u001b[0m\u001b[0;34m)\u001b[0m\u001b[0;34m:\u001b[0m\u001b[0;34m\u001b[0m\u001b[0m\n\u001b[1;32m      5\u001b[0m     \u001b[0;32mfor\u001b[0m \u001b[0mj\u001b[0m \u001b[0;32min\u001b[0m \u001b[0mrange\u001b[0m\u001b[0;34m(\u001b[0m\u001b[0mnn\u001b[0m\u001b[0;34m)\u001b[0m\u001b[0;34m:\u001b[0m\u001b[0;34m\u001b[0m\u001b[0m\n",
      "\u001b[0;31mNameError\u001b[0m: name 'distmat' is not defined"
     ]
    }
   ],
   "source": [
    "mm,nn = distmat.shape[0],distmat.shape[1]\n",
    "min = [1,1,1,1,1,1,1,1]\n",
    "num = 0\n",
    "for i in range(mm):\n",
    "    for j in range(nn):\n",
    "        print(distmat[i][j])\n",
    "        if distmat[i][j] < min[i]:\n",
    "            min[i] = distmat[i][j]\n",
    "    if min[i] < 0.3:\n",
    "        num += 1\n",
    "print('num is:',num)"
   ]
  },
  {
   "cell_type": "code",
   "execution_count": 10,
   "metadata": {},
   "outputs": [
    {
     "name": "stdout",
     "output_type": "stream",
     "text": [
      "0.1\n",
      "0.2\n",
      "0.30000000000000004\n",
      "0.4\n",
      "0.5\n",
      "0.6\n",
      "0.7\n",
      "0.7999999999999999\n",
      "0.8999999999999999\n",
      "0.9999999999999999\n",
      "1.0999999999999999\n",
      "1.2\n",
      "1.3\n",
      "1.4000000000000001\n",
      "1.5000000000000002\n",
      "1.6000000000000003\n",
      "1.7000000000000004\n",
      "1.8000000000000005\n",
      "1.9000000000000006\n",
      "2.0000000000000004\n",
      "2.1000000000000005\n",
      "2.2000000000000006\n",
      "2.3000000000000007\n",
      "2.400000000000001\n",
      "2.500000000000001\n",
      "2.600000000000001\n",
      "2.700000000000001\n",
      "2.800000000000001\n",
      "2.9000000000000012\n",
      "3.0000000000000013\n",
      "3.1000000000000014\n",
      "3.2000000000000015\n",
      "3.3000000000000016\n",
      "3.4000000000000017\n",
      "3.5000000000000018\n",
      "3.600000000000002\n",
      "3.700000000000002\n",
      "3.800000000000002\n",
      "3.900000000000002\n",
      "4.000000000000002\n",
      "4.100000000000001\n",
      "4.200000000000001\n",
      "4.300000000000001\n",
      "4.4\n",
      "4.5\n",
      "4.6\n",
      "4.699999999999999\n",
      "4.799999999999999\n",
      "4.899999999999999\n",
      "4.999999999999998\n",
      "5.099999999999998\n",
      "5.1999999999999975\n",
      "5.299999999999997\n",
      "5.399999999999997\n",
      "5.4999999999999964\n",
      "5.599999999999996\n",
      "5.699999999999996\n",
      "5.799999999999995\n",
      "5.899999999999995\n",
      "5.999999999999995\n",
      "6.099999999999994\n",
      "6.199999999999994\n",
      "6.299999999999994\n",
      "6.399999999999993\n",
      "6.499999999999993\n",
      "6.5999999999999925\n",
      "6.699999999999992\n",
      "6.799999999999992\n",
      "6.8999999999999915\n",
      "6.999999999999991\n",
      "7.099999999999991\n",
      "7.19999999999999\n",
      "7.29999999999999\n",
      "7.39999999999999\n",
      "7.499999999999989\n",
      "7.599999999999989\n",
      "7.699999999999989\n",
      "7.799999999999988\n",
      "7.899999999999988\n",
      "7.999999999999988\n",
      "8.099999999999987\n",
      "8.199999999999987\n",
      "8.299999999999986\n",
      "8.399999999999986\n",
      "8.499999999999986\n",
      "8.599999999999985\n",
      "8.699999999999985\n",
      "8.799999999999985\n",
      "8.899999999999984\n",
      "8.999999999999984\n",
      "9.099999999999984\n",
      "9.199999999999983\n",
      "9.299999999999983\n",
      "9.399999999999983\n",
      "9.499999999999982\n",
      "9.599999999999982\n",
      "9.699999999999982\n",
      "9.799999999999981\n",
      "9.89999999999998\n",
      "9.99999999999998\n",
      "9.99999999999998 is not 1.0\n"
     ]
    }
   ],
   "source": [
    "x = 0.0 \n",
    "for i in range(100): \n",
    "    x = x + 0.1\n",
    "    print(x)\n",
    "if x == 1.0: \n",
    "    print(x, '= 1.0') \n",
    "else: \n",
    "    print(x, 'is not 1.0')"
   ]
  },
  {
   "cell_type": "code",
   "execution_count": 11,
   "metadata": {},
   "outputs": [
    {
     "data": {
      "text/plain": [
       "1.414"
      ]
     },
     "execution_count": 11,
     "metadata": {},
     "output_type": "execute_result"
    }
   ],
   "source": [
    "round(2**0.5,3)"
   ]
  },
  {
   "cell_type": "code",
   "execution_count": 17,
   "metadata": {},
   "outputs": [
    {
     "name": "stdout",
     "output_type": "stream",
     "text": [
      "输入正整数:25\n",
      "Square root of 25 is about 5.000012953048684\n",
      "numGuesses is 4\n"
     ]
    }
   ],
   "source": [
    "# 牛顿-拉夫森法求平方根\n",
    "k = int(input('输入正整数:'))\n",
    "epsilon = 0.01 \n",
    "# k = 24.0 \n",
    "guess = k/2.0 \n",
    "numGuesses = 0\n",
    "while abs(guess*guess - k) >= epsilon: \n",
    "    guess = guess - (((guess**2) - k)/(2*guess))\n",
    "    numGuesses += 1\n",
    "print('Square root of', k, 'is about', guess)\n",
    "print('numGuesses is',numGuesses)"
   ]
  },
  {
   "cell_type": "code",
   "execution_count": 18,
   "metadata": {},
   "outputs": [
    {
     "name": "stdout",
     "output_type": "stream",
     "text": [
      "输入整数:25\n",
      "low= 0.0 high= 25 ans= 12.5\n",
      "low= 0.0 high= 12.5 ans= 6.25\n",
      "low= 0.0 high= 6.25 ans= 3.125\n",
      "low= 3.125 high= 6.25 ans= 4.6875\n",
      "low= 4.6875 high= 6.25 ans= 5.46875\n",
      "low= 4.6875 high= 5.46875 ans= 5.078125\n",
      "low= 4.6875 high= 5.078125 ans= 4.8828125\n",
      "low= 4.8828125 high= 5.078125 ans= 4.98046875\n",
      "low= 4.98046875 high= 5.078125 ans= 5.029296875\n",
      "low= 4.98046875 high= 5.029296875 ans= 5.0048828125\n",
      "low= 4.98046875 high= 5.0048828125 ans= 4.99267578125\n",
      "low= 4.99267578125 high= 5.0048828125 ans= 4.998779296875\n",
      "low= 4.998779296875 high= 5.0048828125 ans= 5.0018310546875\n",
      "numGuesses= 13\n",
      "5.00030517578125 is close to square root of 25\n"
     ]
    }
   ],
   "source": [
    "# 用二分查找法求平方根\n",
    "x = int(input('输入整数:'))\n",
    "if x < 0:\n",
    "    print('该整数{0}没有平方根'.format(x))\n",
    "else:\n",
    "    epsilon = 0.01\n",
    "    numGuesses = 0\n",
    "    low = 0.0\n",
    "    high = max(1.0,x)\n",
    "    ans = (high + low)/2.0\n",
    "    while abs(ans**2 - x) >= epsilon and low != high:\n",
    "        print('low=',low,'high=',high,'ans=',ans)\n",
    "        numGuesses += 1\n",
    "        if ans**2 < x:\n",
    "            low = ans\n",
    "        else:\n",
    "            high = ans\n",
    "        ans = (low + high)/2\n",
    "\n",
    "    print('numGuesses=',numGuesses)\n",
    "    print(ans,'is close to square root of',x)  "
   ]
  },
  {
   "cell_type": "code",
   "execution_count": 19,
   "metadata": {},
   "outputs": [
    {
     "name": "stdout",
     "output_type": "stream",
     "text": [
      "3\n"
     ]
    },
    {
     "ename": "UnboundLocalError",
     "evalue": "local variable 'x' referenced before assignment",
     "output_type": "error",
     "traceback": [
      "\u001b[0;31m---------------------------------------------------------------------------\u001b[0m",
      "\u001b[0;31mUnboundLocalError\u001b[0m                         Traceback (most recent call last)",
      "\u001b[0;32m<ipython-input-19-ab0dcccc6fea>\u001b[0m in \u001b[0;36m<module>\u001b[0;34m\u001b[0m\n\u001b[1;32m      8\u001b[0m \u001b[0mf\u001b[0m\u001b[0;34m(\u001b[0m\u001b[0;34m)\u001b[0m\u001b[0;34m\u001b[0m\u001b[0m\n\u001b[1;32m      9\u001b[0m \u001b[0mx\u001b[0m \u001b[0;34m=\u001b[0m \u001b[0;36m3\u001b[0m\u001b[0;34m\u001b[0m\u001b[0m\n\u001b[0;32m---> 10\u001b[0;31m \u001b[0mg\u001b[0m\u001b[0;34m(\u001b[0m\u001b[0;34m)\u001b[0m\u001b[0;34m\u001b[0m\u001b[0m\n\u001b[0m",
      "\u001b[0;32m<ipython-input-19-ab0dcccc6fea>\u001b[0m in \u001b[0;36mg\u001b[0;34m()\u001b[0m\n\u001b[1;32m      2\u001b[0m     \u001b[0mprint\u001b[0m\u001b[0;34m(\u001b[0m\u001b[0mx\u001b[0m\u001b[0;34m)\u001b[0m\u001b[0;34m\u001b[0m\u001b[0m\n\u001b[1;32m      3\u001b[0m \u001b[0;32mdef\u001b[0m \u001b[0mg\u001b[0m\u001b[0;34m(\u001b[0m\u001b[0;34m)\u001b[0m\u001b[0;34m:\u001b[0m\u001b[0;34m\u001b[0m\u001b[0m\n\u001b[0;32m----> 4\u001b[0;31m     \u001b[0mprint\u001b[0m\u001b[0;34m(\u001b[0m\u001b[0mx\u001b[0m\u001b[0;34m)\u001b[0m\u001b[0;34m\u001b[0m\u001b[0m\n\u001b[0m\u001b[1;32m      5\u001b[0m     \u001b[0mx\u001b[0m \u001b[0;34m=\u001b[0m \u001b[0;36m1\u001b[0m\u001b[0;34m\u001b[0m\u001b[0m\n\u001b[1;32m      6\u001b[0m \u001b[0;34m\u001b[0m\u001b[0m\n",
      "\u001b[0;31mUnboundLocalError\u001b[0m: local variable 'x' referenced before assignment"
     ]
    }
   ],
   "source": [
    "def f(): \n",
    "    print(x) \n",
    "def g(): \n",
    "    print(x) \n",
    "    x = 1 # 由于此处的赋值语句使x成为函数g中的局部变量，而执行前一句print语句时还没有被赋值\n",
    "\n",
    "x = 3 \n",
    "f() \n",
    "x = 3 \n",
    "g() "
   ]
  }
 ],
 "metadata": {
  "kernelspec": {
   "display_name": "Python 3",
   "language": "python",
   "name": "python3"
  },
  "language_info": {
   "codemirror_mode": {
    "name": "ipython",
    "version": 3
   },
   "file_extension": ".py",
   "mimetype": "text/x-python",
   "name": "python",
   "nbconvert_exporter": "python",
   "pygments_lexer": "ipython3",
   "version": "3.6.2"
  }
 },
 "nbformat": 4,
 "nbformat_minor": 2
}
