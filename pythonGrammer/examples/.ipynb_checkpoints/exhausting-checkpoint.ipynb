{
 "cells": [
  {
   "cell_type": "code",
   "execution_count": null,
   "metadata": {
    "collapsed": true
   },
   "outputs": [],
   "source": [
    "num = int(input('输入一个整数:'))\n",
    "# pwr和root先初始化\n",
    "if num == 0:\n",
    "    print('root=',0,'pwr='0)\n",
    "else:\n",
    "    pwr = 1\n",
    "    root = 0\n",
    "    while pwr < 6:\n",
    "        while root*pwr < num:\n",
    "            root = root + 1\n",
    "        pwr = pwr + 1\n",
    "\n",
    "if pwr > 0 and pwr < 6 and root*pwr == num:\n",
    "    print('success')\n",
    "else:\n",
    "    print('failure')"
   ]
  },
  {
   "cell_type": "code",
   "execution_count": null,
   "metadata": {
    "collapsed": true
   },
   "outputs": [],
   "source": [
    "maxVal = int(input('Enter a postive integer: ')) \n",
    "i = 0 \n",
    "while i < maxVal: \n",
    "    i = i + 1 \n",
    "print(i) "
   ]
  },
  {
   "cell_type": "code",
   "execution_count": null,
   "metadata": {
    "collapsed": true
   },
   "outputs": [],
   "source": [
    "maxVal = int(intput('输入一个整数:'))\n",
    "i = 0\n",
    "while i < maxVal:\n",
    "    i = i + 1\n",
    "print(i)"
   ]
  },
  {
   "cell_type": "code",
   "execution_count": null,
   "metadata": {
    "collapsed": true
   },
   "outputs": [],
   "source": [
    "num = int(input('输入一个整数:'))\n",
    "# pwr和root先初始化\n",
    "if num == 0:\n",
    "    print('root=',0,'pwr='0)\n",
    "else:\n",
    "    pwr = 1\n",
    "    root = 0\n",
    "    while pwr < 6:\n",
    "        while root*pwr < num:\n",
    "            root = root + 1# 当root*pwr的条件满足时外层while并不能及时退出，会造成一些浪费\n",
    "        pwr = pwr + 1\n",
    "\n",
    "    if pwr > 0 and pwr < 6 and root*pwr == num:\n",
    "        print('success')\n",
    "    else:\n",
    "        print('failure')"
   ]
  },
  {
   "cell_type": "code",
   "execution_count": null,
   "metadata": {
    "collapsed": true
   },
   "outputs": [],
   "source": [
    "# 用穷举法求数值的完全立方根\n",
    "x = int(input('输入一个整数:'))\n",
    "ans = 0\n",
    "while ans**3 < abs(x):\n",
    "    print('Value of the decrementing function abs(x) - ans**3 is', abs(x) - ans**3)\n",
    "    ans = ans + 1\n",
    "if ans**3 != abs(x):\n",
    "    print(x,'不是完全立方数')\n",
    "else:\n",
    "    if x < 0:\n",
    "        ans = -ans\n",
    "    print(x,'的立方根是:',ans)"
   ]
  }
 ],
 "metadata": {
  "kernelspec": {
   "display_name": "Python 3",
   "language": "python",
   "name": "python3"
  },
  "language_info": {
   "codemirror_mode": {
    "name": "ipython",
    "version": 3
   },
   "file_extension": ".py",
   "mimetype": "text/x-python",
   "name": "python",
   "nbconvert_exporter": "python",
   "pygments_lexer": "ipython3",
   "version": "3.6.2"
  }
 },
 "nbformat": 4,
 "nbformat_minor": 4
}
