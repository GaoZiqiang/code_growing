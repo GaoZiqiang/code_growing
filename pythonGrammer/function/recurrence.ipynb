{
 "cells": [
  {
   "cell_type": "code",
   "execution_count": 8,
   "metadata": {},
   "outputs": [
    {
     "name": "stdout",
     "output_type": "stream",
     "text": [
      "result =  3628800\n"
     ]
    },
    {
     "data": {
      "text/plain": [
       "3628800"
      ]
     },
     "execution_count": 8,
     "metadata": {},
     "output_type": "execute_result"
    }
   ],
   "source": [
    "# 使用迭代法实现阶乘\n",
    "def factI(n):\n",
    "    \"\"\"假设n是正整数返回n!\"\"\"\n",
    "    result = 1\n",
    "    while n > 1:\n",
    "        result = result * n\n",
    "        n -= 1\n",
    "    print('result = ',result)\n",
    "    return result\n",
    "\n",
    "factI(10)"
   ]
  },
  {
   "cell_type": "code",
   "execution_count": 11,
   "metadata": {},
   "outputs": [
    {
     "data": {
      "text/plain": [
       "93326215443944152681699238856266700490715968264381621468592963895217599993229915608941463976156518286253697920827223758251185210916864000000000000000000000000"
      ]
     },
     "execution_count": 11,
     "metadata": {},
     "output_type": "execute_result"
    }
   ],
   "source": [
    "# 使用递归实现阶乘\n",
    "def factR(n):\n",
    "    \"\"\"假设n是正整数返回n!\"\"\"\n",
    "    # 基本情形\n",
    "    if n == 1:\n",
    "        return 1\n",
    "    # 递归情形\n",
    "    else:\n",
    "        return n*factR(n-1)\n",
    "    \n",
    "factR(100)"
   ]
  },
  {
   "cell_type": "code",
   "execution_count": null,
   "metadata": {},
   "outputs": [],
   "source": [
    "# 斐波那契数列的递归实现\n",
    "def fib(n):\n",
    "    if n == 0 or n == 1:\n",
    "        return 1\n",
    "    else:\n",
    "        return fib(n-1) + fib(n-2)\n",
    "def testFib(n):\n",
    "    for i in range(n+1):\n",
    "        print('fib of',i,'=',fib(i))\n",
    "# testFib(10)\n",
    "fib(120)"
   ]
  },
  {
   "cell_type": "code",
   "execution_count": null,
   "metadata": {
    "collapsed": true
   },
   "outputs": [],
   "source": [
    "# 回文字符串判断\n",
    "def isPalindrome(s):\n",
    "    '''\n",
    "    假设s是字符串如果s是回文字符串则返回True，否则返回False。\n",
    "    忽略标点符号、空格和大小写\n",
    "    '''\n",
    "    def toChars(s):\n",
    "        s = s.lower()\n",
    "        # 转换后的字符串letter\n",
    "        letters = ''\n",
    "        for c in s:\n",
    "            if c in 'abcdefghijklmnopqrstuvwxyz':\n",
    "                letters = letters + c\n",
    "        return letters\n",
    "    def isPal(s):\n",
    "        if len(s) <= 1:\n",
    "            return True\n",
    "        else:\n",
    "            return s[0] == s[-1] and isPal(s[1:-1])\n",
    "    \n",
    "    return isPal(toChars(s))\n",
    "\n",
    "if not isPalindrome('aba'):\n",
    "    print('NO')\n",
    "else:\n",
    "    print('YES')"
   ]
  }
 ],
 "metadata": {
  "kernelspec": {
   "display_name": "Python 3",
   "language": "python",
   "name": "python3"
  },
  "language_info": {
   "codemirror_mode": {
    "name": "ipython",
    "version": 3
   },
   "file_extension": ".py",
   "mimetype": "text/x-python",
   "name": "python",
   "nbconvert_exporter": "python",
   "pygments_lexer": "ipython3",
   "version": "3.6.2"
  }
 },
 "nbformat": 4,
 "nbformat_minor": 2
}
