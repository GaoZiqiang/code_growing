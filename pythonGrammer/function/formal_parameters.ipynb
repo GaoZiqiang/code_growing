{
 "cells": [
  {
   "cell_type": "code",
   "execution_count": 13,
   "metadata": {},
   "outputs": [
    {
     "name": "stdout",
     "output_type": "stream",
     "text": [
      "Hello Gaoziqiang!\n"
     ]
    }
   ],
   "source": [
    "def greet_user(username):\n",
    "    print('Hello ' + username.title() + '!')#username.title()会将大小写字母忽略\n",
    "\n",
    "#调用函数    \n",
    "greet_user('GaoZiqiang')"
   ]
  },
  {
   "cell_type": "code",
   "execution_count": 7,
   "metadata": {},
   "outputs": [
    {
     "name": "stdout",
     "output_type": "stream",
     "text": [
      "the demo of python function\n"
     ]
    }
   ],
   "source": [
    "def display_message():\n",
    "    print('the demo of python function')\n",
    "\n",
    "display_message()"
   ]
  },
  {
   "cell_type": "code",
   "execution_count": 43,
   "metadata": {},
   "outputs": [
    {
     "name": "stdout",
     "output_type": "stream",
     "text": [
      "my favorite book is: jack\n",
      "my favorite book is: henry\n",
      "my favorite book is: Tom\n"
     ]
    },
    {
     "ename": "TypeError",
     "evalue": "favorite_book() missing 1 required positional argument: 'bookname'",
     "output_type": "error",
     "traceback": [
      "\u001b[0;31m---------------------------------------------------------------------------\u001b[0m",
      "\u001b[0;31mTypeError\u001b[0m                                 Traceback (most recent call last)",
      "\u001b[0;32m<ipython-input-43-39472adca96d>\u001b[0m in \u001b[0;36m<module>\u001b[0;34m\u001b[0m\n\u001b[1;32m      8\u001b[0m \u001b[0;31m#使用关键字实参时参数的先后位置不固定，都可以\u001b[0m\u001b[0;34m\u001b[0m\u001b[0;34m\u001b[0m\u001b[0m\n\u001b[1;32m      9\u001b[0m \u001b[0mfavorite_book\u001b[0m\u001b[0;34m(\u001b[0m\u001b[0mbookname\u001b[0m \u001b[0;34m=\u001b[0m \u001b[0;34m'Tom'\u001b[0m\u001b[0;34m)\u001b[0m\u001b[0;34m\u001b[0m\u001b[0m\n\u001b[0;32m---> 10\u001b[0;31m \u001b[0mfavorite_book\u001b[0m\u001b[0;34m(\u001b[0m\u001b[0;34m)\u001b[0m\u001b[0;34m\u001b[0m\u001b[0m\n\u001b[0m",
      "\u001b[0;31mTypeError\u001b[0m: favorite_book() missing 1 required positional argument: 'bookname'"
     ]
    }
   ],
   "source": [
    "def favorite_book(bookname):\n",
    "    print('my favorite book is: ' + bookname)\n",
    "\n",
    "#位置实参\n",
    "favorite_book('jack')\n",
    "favorite_book('henry')\n",
    "#关键字实参 在调用函数时，指定函数定义中的形参名\n",
    "#使用关键字实参时参数的先后位置不固定，都可以\n",
    "favorite_book(bookname = 'Tom')\n",
    "#favorite_book()"
   ]
  },
  {
   "cell_type": "code",
   "execution_count": 44,
   "metadata": {},
   "outputs": [
    {
     "name": "stdout",
     "output_type": "stream",
     "text": [
      "My dog's name is llit's color is blackand it's age is 10\n"
     ]
    }
   ],
   "source": [
    "#默认值 切记：最后一个参数可以设置为默认值 原因：在函数调用时，参数的调用仍然按照“位置”进行关联参数，因此在使用，默认参数值时需要将默认值的参数放在最后边\n",
    "#换言之：在使用默认值时，在形参列表中必须先列出没有默认值的形参，再列出有默认值的形参。这让Python依然能够正确地解读位置实参。\n",
    "def describe_pet(pet_name,pet_age,animal_type='dog',pet_color='black'):\n",
    "    print('My ' + animal_type + \"'s name is \" + pet_name + \"it's color is \" + pet_color + \"and it's age is \" + pet_age)\n",
    "\n",
    "\n",
    "describe_pet(pet_name='ll',pet_age='10')"
   ]
  },
  {
   "cell_type": "code",
   "execution_count": 51,
   "metadata": {},
   "outputs": [
    {
     "name": "stdout",
     "output_type": "stream",
     "text": [
      "the shirt's size is 55, and the shirt's name is T-xu\n"
     ]
    }
   ],
   "source": [
    "def make_shirt(shirt_size,shirt_name='T-xu'):\n",
    "    print(\"the shirt's size is \" + shirt_size + \", and the shirt's name is \" + shirt_name)\n",
    "    \n",
    "make_shirt('55')"
   ]
  }
 ],
 "metadata": {
  "kernelspec": {
   "display_name": "Python 3",
   "language": "python",
   "name": "python3"
  },
  "language_info": {
   "codemirror_mode": {
    "name": "ipython",
    "version": 3
   },
   "file_extension": ".py",
   "mimetype": "text/x-python",
   "name": "python",
   "nbconvert_exporter": "python",
   "pygments_lexer": "ipython3",
   "version": "3.6.2"
  }
 },
 "nbformat": 4,
 "nbformat_minor": 4
}
