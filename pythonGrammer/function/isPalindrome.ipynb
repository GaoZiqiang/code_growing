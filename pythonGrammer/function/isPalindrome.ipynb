{
 "cells": [
  {
   "cell_type": "code",
   "execution_count": 5,
   "metadata": {},
   "outputs": [
    {
     "name": "stdout",
     "output_type": "stream",
     "text": [
      "leters is ahgiagi\n",
      "NO\n",
      "leters is aba\n",
      "True\n"
     ]
    }
   ],
   "source": [
    "# 回文字符串判断\n",
    "def isPalindrome(s):\n",
    "    '''\n",
    "    假设s是字符串如果s是回文字符串则返回True，否则返回False。\n",
    "    忽略标点符号、空格和大小写\n",
    "    '''\n",
    "    def toChars(s):\n",
    "        s = s.lower()\n",
    "        # 转换后的字符串letter\n",
    "        letters = ''\n",
    "        for c in s:\n",
    "            if c in 'abcdefghijklmnopqrstuvwxyz':\n",
    "                letters = letters + c\n",
    "        print('leters is',letters)\n",
    "        return letters\n",
    "    def isPal(s):\n",
    "        if len(s) <= 1:\n",
    "            return True\n",
    "        else:\n",
    "            return s[0] == s[-1] and isPal(s[1:-1])\n",
    "    \n",
    "    return isPal(toChars(s))\n",
    "\n",
    "if not isPalindrome('ahgiag,. i'):\n",
    "    print('NO')\n",
    "else:\n",
    "    print('YES')\n",
    "print(isPalindrome('aba'))"
   ]
  }
 ],
 "metadata": {
  "kernelspec": {
   "display_name": "Python 3",
   "language": "python",
   "name": "python3"
  },
  "language_info": {
   "codemirror_mode": {
    "name": "ipython",
    "version": 3
   },
   "file_extension": ".py",
   "mimetype": "text/x-python",
   "name": "python",
   "nbconvert_exporter": "python",
   "pygments_lexer": "ipython3",
   "version": "3.7.8"
  }
 },
 "nbformat": 4,
 "nbformat_minor": 2
}
