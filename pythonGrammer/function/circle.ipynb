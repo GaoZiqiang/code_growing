{
 "cells": [
  {
   "cell_type": "code",
   "execution_count": 1,
   "metadata": {},
   "outputs": [],
   "source": [
    "pi = 3.14159"
   ]
  },
  {
   "cell_type": "code",
   "execution_count": null,
   "metadata": {},
   "outputs": [],
   "source": [
    "def area(r):\n",
    "    return pi*(r**2)\n",
    "\n",
    "def circumference(r):\n",
    "    return 2*pi*r\n",
    "\n",
    "def sphereSurface(r):\n",
    "    return 4*area(r)\n",
    "\n",
    "def sphereVolume(r):\n",
    "    return (4.0/3.0)*pi*(r**3)"
   ]
  }
 ],
 "metadata": {
  "kernelspec": {
   "display_name": "Python 3",
   "language": "python",
   "name": "python3"
  },
  "language_info": {
   "codemirror_mode": {
    "name": "ipython",
    "version": 3
   },
   "file_extension": ".py",
   "mimetype": "text/x-python",
   "name": "python",
   "nbconvert_exporter": "python",
   "pygments_lexer": "ipython3",
   "version": "3.7.8"
  }
 },
 "nbformat": 4,
 "nbformat_minor": 4
}
