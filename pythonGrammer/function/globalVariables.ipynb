{
 "cells": [
  {
   "cell_type": "code",
   "execution_count": 4,
   "metadata": {},
   "outputs": [
    {
     "name": "stdout",
     "output_type": "stream",
     "text": [
      "fib of 0 = 1\n",
      "fib called 1 times\n",
      "fib of 1 = 1\n",
      "fib called 1 times\n",
      "fib of 2 = 2\n",
      "fib called 3 times\n",
      "fib of 3 = 3\n",
      "fib called 5 times\n",
      "fib of 4 = 5\n",
      "fib called 9 times\n",
      "fib of 5 = 8\n",
      "fib called 15 times\n",
      "fib of 6 = 13\n",
      "fib called 25 times\n",
      "fib of 7 = 21\n",
      "fib called 41 times\n",
      "fib of 8 = 34\n",
      "fib called 67 times\n",
      "fib of 9 = 55\n",
      "fib called 109 times\n",
      "fib of 10 = 89\n",
      "fib called 177 times\n"
     ]
    }
   ],
   "source": [
    "def fib(x):\n",
    "    global numFibCalls\n",
    "    numFibCalls += 1\n",
    "    if x == 0 or x == 1:\n",
    "        return 1\n",
    "    else:\n",
    "        return fib(x-1) + fib(x-2)\n",
    "    \n",
    "def testFib(n):\n",
    "    for i in range(n+1):\n",
    "        global numFibCalls\n",
    "        numFibCalls = 0\n",
    "        print('fib of',i,'=',fib(i))\n",
    "        print('fib called',numFibCalls,'times')\n",
    "        \n",
    "testFib(10)"
   ]
  },
  {
   "cell_type": "code",
   "execution_count": 3,
   "metadata": {},
   "outputs": [
    {
     "name": "stdout",
     "output_type": "stream",
     "text": [
      "fib of 0 = 1\n",
      "fib called 1 times\n",
      "fib of 1 = 1\n",
      "fib called 1 times\n",
      "fib of 2 = 2\n",
      "fib called 3 times\n",
      "fib of 3 = 3\n",
      "fib called 5 times\n",
      "fib of 4 = 5\n",
      "fib called 9 times\n",
      "fib of 5 = 8\n",
      "fib called 15 times\n",
      "fib of 6 = 13\n",
      "fib called 25 times\n",
      "fib of 7 = 21\n",
      "fib called 41 times\n",
      "fib of 8 = 34\n",
      "fib called 67 times\n",
      "fib of 9 = 55\n",
      "fib called 109 times\n",
      "fib of 10 = 89\n",
      "fib called 177 times\n"
     ]
    }
   ],
   "source": []
  }
 ],
 "metadata": {
  "kernelspec": {
   "display_name": "Python 3",
   "language": "python",
   "name": "python3"
  },
  "language_info": {
   "codemirror_mode": {
    "name": "ipython",
    "version": 3
   },
   "file_extension": ".py",
   "mimetype": "text/x-python",
   "name": "python",
   "nbconvert_exporter": "python",
   "pygments_lexer": "ipython3",
   "version": "3.7.8"
  }
 },
 "nbformat": 4,
 "nbformat_minor": 4
}
