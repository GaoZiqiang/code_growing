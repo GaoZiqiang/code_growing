{
 "cells": [
  {
   "cell_type": "code",
   "execution_count": 3,
   "metadata": {},
   "outputs": [],
   "source": [
    "#import circle"
   ]
  },
  {
   "cell_type": "code",
   "execution_count": 4,
   "metadata": {},
   "outputs": [
    {
     "name": "stdout",
     "output_type": "stream",
     "text": [
      "pi is 3\n",
      "cicle.pi 3.14159\n",
      "circle.area 28.27431\n",
      "circle.circumference 18.849539999999998\n",
      "circle.sphereSurface 113.09724\n"
     ]
    }
   ],
   "source": [
    "pi =3\n",
    "print('pi is',pi)\n",
    "print('cicle.pi',circle.pi)\n",
    "print('circle.area',circle.area(pi))\n",
    "print('circle.circumference',circle.circumference(pi))\n",
    "print('circle.sphereSurface',circle.sphereSurface(pi))"
   ]
  },
  {
   "cell_type": "code",
   "execution_count": 5,
   "metadata": {},
   "outputs": [],
   "source": [
    "from circle import *"
   ]
  },
  {
   "cell_type": "code",
   "execution_count": 9,
   "metadata": {},
   "outputs": [
    {
     "name": "stdout",
     "output_type": "stream",
     "text": [
      "3.14159\n",
      "3.14159\n"
     ]
    }
   ],
   "source": [
    "print(pi)\n",
    "print(circle.pi)"
   ]
  },
  {
   "cell_type": "code",
   "execution_count": null,
   "metadata": {},
   "outputs": [],
   "source": []
  }
 ],
 "metadata": {
  "kernelspec": {
   "display_name": "Python 3",
   "language": "python",
   "name": "python3"
  },
  "language_info": {
   "codemirror_mode": {
    "name": "ipython",
    "version": 3
   },
   "file_extension": ".py",
   "mimetype": "text/x-python",
   "name": "python",
   "nbconvert_exporter": "python",
   "pygments_lexer": "ipython3",
   "version": "3.7.8"
  }
 },
 "nbformat": 4,
 "nbformat_minor": 4
}
