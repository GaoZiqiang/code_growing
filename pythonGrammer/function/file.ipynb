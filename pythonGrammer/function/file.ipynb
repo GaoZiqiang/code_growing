{
 "cells": [
  {
   "cell_type": "code",
   "execution_count": null,
   "metadata": {},
   "outputs": [],
   "source": [
    "# 使用文件句柄name_handle进行文件读写操作\n",
    "name_handle = open('kids','w')# open()函数是python内置的函数，因此不需要调用第三方库"
   ]
  },
  {
   "cell_type": "code",
   "execution_count": null,
   "metadata": {},
   "outputs": [],
   "source": [
    "# 文件写入\n",
    "for i in range(2):\n",
    "    name = input('enter name:')\n",
    "    name_handle.write(name + '\\n')\n",
    "name_handle.close()"
   ]
  },
  {
   "cell_type": "code",
   "execution_count": 20,
   "metadata": {},
   "outputs": [
    {
     "name": "stdout",
     "output_type": "stream",
     "text": [
      "gapzoqomggagaohanyagaohangaoziqiangyagaoziqianghhhhhhlllll\n"
     ]
    }
   ],
   "source": [
    "name_handle = open('kids','r')\n",
    "for line in name_handle:\n",
    "        print(line[:-1])\n",
    "name_handle.close()"
   ]
  },
  {
   "cell_type": "code",
   "execution_count": null,
   "metadata": {},
   "outputs": [],
   "source": []
  }
 ],
 "metadata": {
  "kernelspec": {
   "display_name": "Python 3",
   "language": "python",
   "name": "python3"
  },
  "language_info": {
   "codemirror_mode": {
    "name": "ipython",
    "version": 3
   },
   "file_extension": ".py",
   "mimetype": "text/x-python",
   "name": "python",
   "nbconvert_exporter": "python",
   "pygments_lexer": "ipython3",
   "version": "3.7.8"
  }
 },
 "nbformat": 4,
 "nbformat_minor": 4
}
