{
 "cells": [
  {
   "cell_type": "code",
   "execution_count": 6,
   "metadata": {},
   "outputs": [
    {
     "name": "stdout",
     "output_type": "stream",
     "text": [
      "Ziqiang Gao\n"
     ]
    }
   ],
   "source": [
    "def get_formatted_name(first_name,last_name):\n",
    "    #获取完整姓名\n",
    "    full_name = first_name + ' ' + last_name\n",
    "    return full_name.title()\n",
    "\n",
    "musician = get_formatted_name('ziqiang','gao')\n",
    "print(musician)"
   ]
  },
  {
   "cell_type": "code",
   "execution_count": 15,
   "metadata": {},
   "outputs": [
    {
     "name": "stdout",
     "output_type": "stream",
     "text": [
      "Ziqiangkkgao\n"
     ]
    }
   ],
   "source": [
    "#让实参变成可选的 可选形参\n",
    "#将可选参数默认设置为空值\n",
    "def get_formatted_name(first_name,last_name,middle_name=''):\n",
    "    if middle_name:\n",
    "        full_name = first_name + middle_name + last_name\n",
    "    else:\n",
    "        full_name = first_name + last_name\n",
    "    return full_name.title()\n",
    "\n",
    "musician = get_formatted_name('ziqiang','gao','kk')\n",
    "print(musician)"
   ]
  },
  {
   "cell_type": "code",
   "execution_count": 19,
   "metadata": {},
   "outputs": [
    {
     "name": "stdout",
     "output_type": "stream",
     "text": [
      "{'first': 'gao', 'last': 'ziqiang'}\n"
     ]
    }
   ],
   "source": [
    "#返回字典\n",
    "#注意观察字典的打印形式\n",
    "def build_person(first_name,last_name):\n",
    "    #返回一个字典，其中包含一个人的信息\n",
    "    person = {'first':first_name,'last':last_name}\n",
    "    return person\n",
    "\n",
    "musician = build_person('gao','ziqiang')\n",
    "print(musician)"
   ]
  },
  {
   "cell_type": "code",
   "execution_count": 23,
   "metadata": {},
   "outputs": [
    {
     "name": "stdout",
     "output_type": "stream",
     "text": [
      "{'first': 'gao', 'last': 'ziqiang', 'age': 27}\n"
     ]
    }
   ],
   "source": [
    "#接受其他可选值\n",
    "def build_person(first_name,last_name,age=''):\n",
    "    #返回一个字典，其中包含一个人的信息\n",
    "    person = {'first':first_name,'last':last_name}\n",
    "    if age:\n",
    "        person['age'] = age\n",
    "    return person\n",
    "\n",
    "musician = build_person('gao','ziqiang',age = 27)\n",
    "print(musician)"
   ]
  },
  {
   "cell_type": "code",
   "execution_count": 25,
   "metadata": {},
   "outputs": [
    {
     "name": "stdout",
     "output_type": "stream",
     "text": [
      "please tell me your name:\n",
      "enter 'q' to quit at any time\n",
      "First name: ziqiang\n",
      "Last name: gao\n",
      "Hello ziqianggao !\n",
      "please tell me your name:\n",
      "enter 'q' to quit at any time\n",
      "First name: q\n"
     ]
    }
   ],
   "source": [
    "#结合使用函数和while循环\n",
    "def get_formatted_name(first_name,last_name):\n",
    "    full_name  = first_name + '' + last_name\n",
    "    return full_name\n",
    "\n",
    "#while循环\n",
    "while True:\n",
    "    print(\"please tell me your name:\")\n",
    "    print(\"enter 'q' to quit at any time\")\n",
    "    \n",
    "    f_name = input(\"First name: \")\n",
    "    if f_name == 'q':\n",
    "        break\n",
    "        \n",
    "    l_name  = input(\"Last name: \")\n",
    "    if l_name == 'q':\n",
    "        break\n",
    "    \n",
    "    formatted_name = get_formatted_name(f_name,l_name)\n",
    "    print('Hello ' + formatted_name + ' !')"
   ]
  }
 ],
 "metadata": {
  "kernelspec": {
   "display_name": "Python 3",
   "language": "python",
   "name": "python3"
  },
  "language_info": {
   "codemirror_mode": {
    "name": "ipython",
    "version": 3
   },
   "file_extension": ".py",
   "mimetype": "text/x-python",
   "name": "python",
   "nbconvert_exporter": "python",
   "pygments_lexer": "ipython3",
   "version": "3.6.2"
  }
 },
 "nbformat": 4,
 "nbformat_minor": 4
}
