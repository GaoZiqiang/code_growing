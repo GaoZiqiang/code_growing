{
 "cells": [
  {
   "cell_type": "code",
   "execution_count": 7,
   "metadata": {},
   "outputs": [],
   "source": [
    "# 位置参数、关键字参数和默认参数\n",
    "# 默认参数需要在形参中指定\n",
    "# 位置参数在调用实参时不需要加形参名称\n",
    "# 关键字参数需要加形参名称\n",
    "\n",
    "# 当关键字参数和位置参数同时出现时，应将关键字参数放在前面，位置参数放在后面。\n",
    "def printName(firstName, lastName, reverse=False):\n",
    "    if reverse:\n",
    "        print(lastName + ', ' + firstName)\n",
    "    else:\n",
    "        print(firstName, lastName)\n",
    "        \n"
   ]
  },
  {
   "cell_type": "code",
   "execution_count": 9,
   "metadata": {},
   "outputs": [
    {
     "name": "stdout",
     "output_type": "stream",
     "text": [
      "gao ziqiang\n",
      "gao han\n"
     ]
    }
   ],
   "source": [
    "if __name__ == '__main__':\n",
    "    printName('gao','ziqiang')# 位置参数\n",
    "    printName(lastName='han',firstName='gao',reverse=False)# 关键字参数"
   ]
  }
 ],
 "metadata": {
  "kernelspec": {
   "display_name": "Python 3",
   "language": "python",
   "name": "python3"
  },
  "language_info": {
   "codemirror_mode": {
    "name": "ipython",
    "version": 3
   },
   "file_extension": ".py",
   "mimetype": "text/x-python",
   "name": "python",
   "nbconvert_exporter": "python",
   "pygments_lexer": "ipython3",
   "version": "3.6.2"
  }
 },
 "nbformat": 4,
 "nbformat_minor": 4
}
