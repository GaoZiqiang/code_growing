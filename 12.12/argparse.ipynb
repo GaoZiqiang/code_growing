{
 "cells": [
  {
   "cell_type": "code",
   "execution_count": 1,
   "metadata": {},
   "outputs": [
    {
     "name": "stderr",
     "output_type": "stream",
     "text": [
      "usage: it's usage tip.\n",
      "ipykernel_launcher.py: error: the following arguments are required: --port\n"
     ]
    },
    {
     "ename": "SystemExit",
     "evalue": "2",
     "output_type": "error",
     "traceback": [
      "An exception has occurred, use %tb to see the full traceback.\n",
      "\u001b[0;31mSystemExit\u001b[0m\u001b[0;31m:\u001b[0m 2\n"
     ]
    },
    {
     "name": "stderr",
     "output_type": "stream",
     "text": [
      "/home/gaoziqiang/.local/lib/python3.6/site-packages/IPython/core/interactiveshell.py:3351: UserWarning: To exit: use 'exit', 'quit', or Ctrl-D.\n",
      "  warn(\"To exit: use 'exit', 'quit', or Ctrl-D.\", stacklevel=1)\n"
     ]
    }
   ],
   "source": [
    "#encoding=utf-8\n",
    "import argparse\n",
    "\n",
    "def main(args):\n",
    "    print(\"--address {0}\".format(args.code_address))    #args.address会报错，因为指定了dest的值\n",
    "    print(\"--flag {0}\".format(args.flag))   #如果命令行中该参数输入的值不在choices列表中，则报错\n",
    "    print(\"--port {0}\".format(args.port))   #prot的类型为int类型，如果命令行中没有输入该选项则报错\n",
    "#     print(\"-l {0}\".format(args.log))  #如果命令行中输入该参数，则该值为True。因为为短格式\"-l\"指定了别名\"--log\"，所以程序中用args.log来访问\n",
    "\n",
    "if __name__ == '__main__':\n",
    "    parser = argparse.ArgumentParser(usage=\"it's usage tip.\", description=\"help info.\")\n",
    "    parser.add_argument(\"--address\", default=80, help=\"the port number.\", dest=\"code_address\")\n",
    "    parser.add_argument(\"--flag\", choices=['.txt', '.jpg', '.xml', '.png'], default=\".txt\", help=\"the file type\")\n",
    "    parser.add_argument(\"--port\", default=10,type=int, required=True, help=\"the port number.\")\n",
    "    parser.add_argument(\"-l\", \"--log\", default=False, action=\"store_true\", help=\"active log info.\")\n",
    "\n",
    "    args = parser.parse_args()\n",
    "    main(args)"
   ]
  }
 ],
 "metadata": {
  "kernelspec": {
   "display_name": "Python 3",
   "language": "python",
   "name": "python3"
  },
  "language_info": {
   "codemirror_mode": {
    "name": "ipython",
    "version": 3
   },
   "file_extension": ".py",
   "mimetype": "text/x-python",
   "name": "python",
   "nbconvert_exporter": "python",
   "pygments_lexer": "ipython3",
   "version": "3.6.2"
  }
 },
 "nbformat": 4,
 "nbformat_minor": 2
}
