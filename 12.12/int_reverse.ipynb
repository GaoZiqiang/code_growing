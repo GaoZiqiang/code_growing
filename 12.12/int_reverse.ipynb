{
 "cells": [
  {
   "cell_type": "code",
   "execution_count": 51,
   "metadata": {},
   "outputs": [],
   "source": [
    "# 整数反转\n",
    "import sys\n",
    "\n",
    "MAX_VALUE = sys.maxsize\n",
    "MIN_VALUE = -sys.maxsize - 1"
   ]
  },
  {
   "cell_type": "code",
   "execution_count": 56,
   "metadata": {},
   "outputs": [],
   "source": [
    "def reverse(x):\n",
    "    '''给出一个 32 位的有符号整数，你需要将这个整数中每位上的数字进行反转。\n",
    "    https://leetcode-cn.com/problems/reverse-integer/\n",
    "    '''\n",
    "    rev = 0\n",
    "    while x != 0.0:\n",
    "        pop = x % 10\n",
    "        x = x // 10# 在python中除10向下取整需要用x//y\n",
    "        \n",
    "        if ((rev > MAX_VALUE) / 10) or (rev == MAX_VALUE / 10 and pop > 7):\n",
    "            return 0\n",
    "        if ((rev < MIN_VALUE) / 10) or (rev == MIN_VALUE / 10 and pop < -8):\n",
    "            return 0\n",
    "        \n",
    "        rev = rev * 10 + pop\n",
    "        print('value of rev:',rev)\n",
    "        \n",
    "    return rev"
   ]
  },
  {
   "cell_type": "code",
   "execution_count": 57,
   "metadata": {},
   "outputs": [
    {
     "name": "stdout",
     "output_type": "stream",
     "text": [
      "value of rev: 4\n",
      "value of rev: 48\n",
      "value of rev: 486\n",
      "value of rev: 4865\n",
      "value of rev: 48652\n"
     ]
    },
    {
     "data": {
      "text/plain": [
       "48652"
      ]
     },
     "execution_count": 57,
     "metadata": {},
     "output_type": "execute_result"
    }
   ],
   "source": [
    "reverse(25684)"
   ]
  },
  {
   "cell_type": "code",
   "execution_count": 42,
   "metadata": {},
   "outputs": [
    {
     "data": {
      "text/plain": [
       "-9223372036854775808"
      ]
     },
     "execution_count": 42,
     "metadata": {},
     "output_type": "execute_result"
    }
   ],
   "source": [
    "MAX_VALUE\n",
    "MIN_VALUE"
   ]
  },
  {
   "cell_type": "code",
   "execution_count": 44,
   "metadata": {},
   "outputs": [
    {
     "data": {
      "text/plain": [
       "1"
      ]
     },
     "execution_count": 44,
     "metadata": {},
     "output_type": "execute_result"
    }
   ],
   "source": [
    "12//10"
   ]
  }
 ],
 "metadata": {
  "kernelspec": {
   "display_name": "Python 3",
   "language": "python",
   "name": "python3"
  },
  "language_info": {
   "codemirror_mode": {
    "name": "ipython",
    "version": 3
   },
   "file_extension": ".py",
   "mimetype": "text/x-python",
   "name": "python",
   "nbconvert_exporter": "python",
   "pygments_lexer": "ipython3",
   "version": "3.6.2"
  }
 },
 "nbformat": 4,
 "nbformat_minor": 2
}
